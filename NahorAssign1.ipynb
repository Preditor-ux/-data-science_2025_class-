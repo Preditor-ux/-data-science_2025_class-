{
  "nbformat": 4,
  "nbformat_minor": 0,
  "metadata": {
    "colab": {
      "provenance": [],
      "include_colab_link": true
    },
    "kernelspec": {
      "name": "python3",
      "display_name": "Python 3"
    },
    "language_info": {
      "name": "python"
    }
  },
  "cells": [
    {
      "cell_type": "markdown",
      "metadata": {
        "id": "view-in-github",
        "colab_type": "text"
      },
      "source": [
        "<a href=\"https://colab.research.google.com/github/Preditor-ux/-data-science_2025_class-/blob/main/NahorAssign1.ipynb\" target=\"_parent\"><img src=\"https://colab.research.google.com/assets/colab-badge.svg\" alt=\"Open In Colab\"/></a>"
      ]
    },
    {
      "cell_type": "code",
      "execution_count": null,
      "metadata": {
        "colab": {
          "base_uri": "https://localhost:8080/"
        },
        "id": "E9PmL03p_E3X",
        "outputId": "82fe3cc5-c249-4b03-af85-983fb02ee134"
      },
      "outputs": [
        {
          "output_type": "stream",
          "name": "stdout",
          "text": [
            "Area: 24.0\n",
            "Perimeter (buggy): 19.0\n"
          ]
        }
      ],
      "source": [
        "# Below is an intentionally buggy version of the program. Notice that the calculation of the perimeter is incorrect.\n",
        "# Run this code, observe its output, discuss why the result is wrong, and identify what needs to be fixed.\n",
        "# Buggy version: Calculate rectangle metrics with an incorrect perimeter calculation\n",
        "# Modify the buggy version to apply the correct formula.\n",
        "# Re-run the code to verify that the corrected version prints the expected perimeter (22.0 in this example).\n",
        "\n",
        "\n",
        "\n",
        "# Define the dimensions of the rectangle\n",
        "\n",
        "length = 8.0       # Length of the rectangle (in units)\n",
        "width = 3.0        # Width of the rectangle (in units)\n",
        "\n",
        "# Calculate the area of the rectangle correctly\n",
        "area = length * width\n",
        "\n",
        "# Bug: Incorrect perimeter calculation\n",
        "# Intended formula: 2 * (length + width)\n",
        "# Buggy formula here misses one full width value\n",
        "perimeter = (length * 2) + width\n",
        "\n",
        "# Print the results\n",
        "print(\"Area:\", area)\n",
        "print(\"Perimeter (buggy):\", perimeter)"
      ]
    },
    {
      "cell_type": "code",
      "source": [
        "# Define the dimensions of the rectangle\n",
        "\n",
        "length = 8.0       # Length of the rectangle (in units)\n",
        "width = 3.0        # Width of the rectangle (in units)\n",
        "\n",
        "# Calculate the area of the rectangle correctly\n",
        "area = length * width\n",
        "\n",
        "# Bug: Incorrect perimeter calculation\n",
        "# Intended formula: 2 * (length + width)\n",
        "# Buggy formula here misses one full width value\n",
        "perimeter = (length + width) * 2\n",
        "\n",
        "# Print the results\n",
        "print(\"Area:\", area)\n",
        "print(\"Perimeter (buggy):\", perimeter)"
      ],
      "metadata": {
        "id": "OR0wmWID_1yZ",
        "outputId": "637dc8ed-ee9f-4a91-d7b8-ef55e1e69c87",
        "colab": {
          "base_uri": "https://localhost:8080/"
        }
      },
      "execution_count": 1,
      "outputs": [
        {
          "output_type": "stream",
          "name": "stdout",
          "text": [
            "Area: 24.0\n",
            "Perimeter (buggy): 22.0\n"
          ]
        }
      ]
    }
  ]
}